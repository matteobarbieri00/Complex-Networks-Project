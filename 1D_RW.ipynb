{
 "cells": [
  {
   "cell_type": "code",
   "execution_count": 1,
   "metadata": {},
   "outputs": [],
   "source": [
    "import numpy as np\n",
    "from random import *\n",
    "import matplotlib.pyplot as plt\n",
    "from scipy.stats import norm\n",
    "from scipy.stats import binom\n",
    "import matplotlib.mlab as mlab"
   ]
  },
  {
   "cell_type": "code",
   "execution_count": 2,
   "metadata": {},
   "outputs": [],
   "source": [
    "def c_rw_1D(lenght, Delta_x, Delta_t, time, x_0):\n",
    "    x = x_0\n",
    "    T = int(time/Delta_t)\n",
    "    for i in range(T):\n",
    "        if x != (-lenght) and x != lenght:\n",
    "            p = random()\n",
    "            if p <= 1/2:\n",
    "                x = x-Delta_x\n",
    "            else:\n",
    "                x = x + Delta_x\n",
    "        elif x == (-lenght):\n",
    "            p = random()\n",
    "            if p <= 1/2:\n",
    "                x = lenght\n",
    "            else:\n",
    "                x = x + Delta_x\n",
    "        elif x == lenght:\n",
    "            p = random()\n",
    "            if p <= 1/2:\n",
    "                x = x-Delta_x\n",
    "            else:\n",
    "                x = -lenght\n",
    "    return x"
   ]
  },
  {
   "cell_type": "code",
   "execution_count": 3,
   "metadata": {},
   "outputs": [
    {
     "name": "stdout",
     "output_type": "stream",
     "text": [
      "[0.0, 0.0, 0.0, 0.0, 0.0, 0.0, 0.0, 0.0, 0.0, 0.0, 0.0, 0.0, 0.0, 0.0, 0.0, 0.0, 0.0, 0.0, 0.0, 0.0, 0.0, 0.0, 0.0, 0.0, 0.0, 0.0, 0.0, 0.0, 0.0, 0.0, 0.0, 0.0, 0.0004, 0.0001, 0.0005, 0.0017, 0.0013, 0.0033, 0.0043, 0.0068, 0.0129, 0.0173, 0.0206, 0.0286, 0.0426, 0.0506, 0.0593, 0.067, 0.0733, 0.0755, 0.0792, 0.0742, 0.0727, 0.0649, 0.0578, 0.0489, 0.0389, 0.0294, 0.0241, 0.0173, 0.0097, 0.007, 0.0043, 0.0026, 0.0011, 0.001, 0.0004, 0.0003, 0.0001, 0.0, 0.0, 0.0, 0.0, 0.0, 0.0, 0.0, 0.0, 0.0, 0.0, 0.0, 0.0, 0.0, 0.0, 0.0, 0.0, 0.0, 0.0, 0.0, 0.0, 0.0, 0.0, 0.0, 0.0, 0.0, 0.0, 0.0, 0.0, 0.0, 0.0, 0.0, 0.0]\n"
     ]
    },
    {
     "data": {
      "text/plain": [
       "<matplotlib.collections.PathCollection at 0x121e41c70>"
      ]
     },
     "execution_count": 3,
     "metadata": {},
     "output_type": "execute_result"
    },
    {
     "data": {
      "image/png": "[encoded data removed]",
      "text/plain": [
       "<Figure size 640x480 with 1 Axes>"
      ]
     },
     "metadata": {},
     "output_type": "display_data"
    }
   ],
   "source": [
    "L = 100\n",
    "Delta_x = 1\n",
    "Delta_t = 1\n",
    "T = 100\n",
    "x_0 = 0\n",
    "positions = []\n",
    "particles = 10000\n",
    "for i in range(particles):\n",
    "    positions.append(c_rw_1D(L,Delta_x,Delta_t,T,x_0))\n",
    "\n",
    "bins = 2*L\n",
    "x = []\n",
    "y = []\n",
    "n_in_pos = [0 for i in range(-L,L+1)]\n",
    "for i in range(-L,L+1):\n",
    "    for j in range(len(positions)):\n",
    "        if positions[j] == i:\n",
    "            n_in_pos[i] += 1\n",
    "\n",
    "for i in range(-L,L + 1):\n",
    "    if i%2 == 0:\n",
    "        x.append(i)\n",
    "        y.append(n_in_pos[i]/particles)\n",
    "    \n",
    "\n",
    "print(y)\n",
    "plt.scatter(x,y,marker = 'o')\n",
    "#plt.hist(positions)\n",
    "# best fit of data\n",
    "#(mu, sigma) = norm.fit(positions)\n",
    "\n",
    "#plt.plot(norm.fit(positions))\n",
    "\n",
    "# the histogram of the data\n",
    "#n, bins, patches = plt.hist(positions, 60,  facecolor='green', alpha=0.75)\n",
    "\n",
    "\n",
    "\n"
   ]
  },
  {
   "cell_type": "code",
   "execution_count": null,
   "metadata": {},
   "outputs": [],
   "source": []
  }
 ],
 "metadata": {
  "kernelspec": {
   "display_name": "Python 3",
   "language": "python",
   "name": "python3"
  },
  "language_info": {
   "codemirror_mode": {
    "name": "ipython",
    "version": 3
   },
   "file_extension": ".py",
   "mimetype": "text/x-python",
   "name": "python",
   "nbconvert_exporter": "python",
   "pygments_lexer": "ipython3",
   "version": "3.9.2"
  }
 },
 "nbformat": 4,
 "nbformat_minor": 2
}
