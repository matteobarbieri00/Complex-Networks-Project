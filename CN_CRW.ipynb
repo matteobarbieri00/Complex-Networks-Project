{
 "cells": [
  {
   "cell_type": "code",
   "execution_count": 12,
   "metadata": {},
   "outputs": [],
   "source": [
    "import networkx as nx\n",
    "import random\n",
    "import numpy as np\n",
    "import matplotlib.pyplot as plt"
   ]
  },
  {
   "cell_type": "markdown",
   "metadata": {},
   "source": [
    "Function that does the discrete random walk on a graph"
   ]
  },
  {
   "cell_type": "code",
   "execution_count": 14,
   "metadata": {},
   "outputs": [],
   "source": [
    "def random_walk_on_graph(graph, init_node, T):\n",
    "    current_node = init_node\n",
    "    for i in range(T):\n",
    "        temp = list(graph.neighbors(current_node))\n",
    "        if temp == []:\n",
    "            break\n",
    "        else:\n",
    "            new_node = random.choice(temp)\n",
    "            current_node = new_node\n",
    "    return current_node\n",
    "\n"
   ]
  },
  {
   "cell_type": "markdown",
   "metadata": {},
   "source": [
    "Function that finds the probability distribution on the columns of a graph of type G_n"
   ]
  },
  {
   "cell_type": "code",
   "execution_count": 15,
   "metadata": {},
   "outputs": [],
   "source": [
    "#n_p is the number of shots done in order to get a probability distribution\n",
    "def find_prob(n, T, n_p):\n",
    "    n_columns = 2 * n + 1\n",
    "    n_v = np.power(2, n + 1) + np.power(2, n) - 2\n",
    "    vertexes = [i for i in range(n_v)]\n",
    "    columns = []\n",
    "    dict_col = {}\n",
    "    for i in range(n_columns):\n",
    "        columns.append([])\n",
    "        dict_col[i] = []\n",
    "    iterator = 0\n",
    "    past_center_counter = 2\n",
    "    for i in range(n_columns):\n",
    "        if i <= n:\n",
    "            n_v_c = np.power(2, i)\n",
    "            for j in range(iterator, iterator + n_v_c):\n",
    "                columns[i].append(j)\n",
    "                dict_col[i].append(j)\n",
    "            iterator = iterator + n_v_c\n",
    "        elif i > n:\n",
    "            k = i - past_center_counter\n",
    "            past_center_counter = past_center_counter + 2\n",
    "            n_v_c = np.power(2, k)\n",
    "\n",
    "            for j in range(iterator, iterator + n_v_c):\n",
    "                columns[i].append(j)\n",
    "                dict_col[i].append(j)\n",
    "            iterator = iterator + n_v_c\n",
    "\n",
    "    g = nx.Graph()\n",
    "    for i in range(len(columns)):\n",
    "        g.add_nodes_from(columns[i])\n",
    "    for i in range(len(columns)):\n",
    "        if i < n:\n",
    "            for j in range(len(columns[i])):\n",
    "                g.add_edge(columns[i][j], columns[i + 1][2 * j])\n",
    "                g.add_edge(columns[i][j], columns[i + 1][2 * j + 1])\n",
    "        if i >= n and i != 2 * n:\n",
    "            for j in range(len(columns[i + 1])):\n",
    "                g.add_edge(columns[i + 1][j], columns[i][2 * j])\n",
    "                g.add_edge(columns[i + 1][j], columns[i][2 * j + 1])\n",
    "\n",
    "    results = []\n",
    "    for t in range(n_p):\n",
    "        results.append(random_walk_on_graph(g, 0, T))\n",
    "    col_results = []\n",
    "    for i in results:\n",
    "        for j in dict_col.keys():\n",
    "            for k in dict_col[j]:\n",
    "                if i == k:\n",
    "                    col_results.append(j)\n",
    "                else:\n",
    "                    pass\n",
    "    return [col_results.count(2 * n) / (n_p), pow(2, -n)]"
   ]
  },
  {
   "cell_type": "markdown",
   "metadata": {},
   "source": [
    "Function that does the graph"
   ]
  },
  {
   "cell_type": "code",
   "execution_count": 16,
   "metadata": {},
   "outputs": [],
   "source": [
    "def do_graph(N, Time, N_part):\n",
    "    obs = []\n",
    "    scale = []\n",
    "    x = []\n",
    "    for i in range(N):\n",
    "        x.append(i)\n",
    "        fb = find_prob(i, Time, N_part)\n",
    "        obs.append(fb[0])\n",
    "        scale.append(fb[1])\n",
    "\n",
    "    fig, ax = plt.subplots()\n",
    "    ax.plot(x, obs, label=\"Observed probability\", color=\"blue\")\n",
    "    ax.plot(x, scale, \"k:\", label=\"Predicted scaling\", color=\"red\")\n",
    "    # ax.plot(Ns, theta, \"k:\", label=\"Expected\", color=\"pink\")\n",
    "    legend = ax.legend(loc=\"upper center\")\n",
    "    legend.get_frame().set_facecolor(\"C0\")\n",
    "    # plt.plot(Ns, y)\n",
    "    plt.grid(linestyle=\"--\", linewidth=0.5)\n",
    "    plt.xlabel(\"n\")\n",
    "    plt.ylabel(\"Probability\")\n",
    "    plt.show()\n",
    "    "
   ]
  },
  {
   "cell_type": "code",
   "execution_count": 19,
   "metadata": {},
   "outputs": [
    {
     "name": "stderr",
     "output_type": "stream",
     "text": [
      "/var/folders/jk/jgkdl6hx493bhb_hd6fkl9q00000gn/T/ipykernel_74154/817178729.py:13: UserWarning: color is redundantly defined by the 'color' keyword argument and the fmt string \"k:\" (-> color='k'). The keyword argument will take precedence.\n",
      "  ax.plot(x, scale, \"k:\", label=\"Predicted scaling\", color=\"red\")\n"
     ]
    },
    {
     "data": {
      "image/png": "[encoded data removed]",
      "text/plain": [
       "<Figure size 432x288 with 1 Axes>"
      ]
     },
     "metadata": {
      "needs_background": "light"
     },
     "output_type": "display_data"
    }
   ],
   "source": [
    "\n",
    "do_graph(10, 100, 1000)\n",
    "\n"
   ]
  },
  {
   "cell_type": "code",
   "execution_count": null,
   "metadata": {},
   "outputs": [],
   "source": []
  }
 ],
 "metadata": {
  "kernelspec": {
   "display_name": "base",
   "language": "python",
   "name": "python3"
  },
  "language_info": {
   "codemirror_mode": {
    "name": "ipython",
    "version": 3
   },
   "file_extension": ".py",
   "mimetype": "text/x-python",
   "name": "python",
   "nbconvert_exporter": "python",
   "pygments_lexer": "ipython3",
   "version": "3.9.7"
  }
 },
 "nbformat": 4,
 "nbformat_minor": 2
}
