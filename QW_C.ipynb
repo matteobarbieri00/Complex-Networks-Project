{
 "cells": [
  {
   "cell_type": "code",
   "execution_count": 1,
   "metadata": {},
   "outputs": [],
   "source": [
    "import numpy as np\n",
    "from random import *\n",
    "import matplotlib.pyplot as plt\n",
    "from qutip import *"
   ]
  },
  {
   "cell_type": "markdown",
   "metadata": {},
   "source": [
    "Defining the needed functions"
   ]
  },
  {
   "cell_type": "code",
   "execution_count": 7,
   "metadata": {},
   "outputs": [],
   "source": [
    "def coin_toss(s, C, l):\n",
    "    return tensor(C, qeye(2 * l + 1)) * s\n",
    "\n",
    "\n",
    "def shift_operator(s, l):\n",
    "    S = tensor(\n",
    "        (basis(2, 0) * basis(2, 0).dag()),\n",
    "        sum(\n",
    "            [\n",
    "                (basis(2 * l + 1, p + 1) * basis(2 * l + 1, p).dag())\n",
    "                for p in range(2 * l)\n",
    "            ]\n",
    "        )\n",
    "        + basis(2 * l + 1, 0) * basis(2 * l + 1, 2 * l).dag(),\n",
    "    ) + tensor(\n",
    "        (basis(2, 1) * basis(2, 1).dag()),\n",
    "        sum(\n",
    "            [\n",
    "                (basis(2 * l + 1, p - 1) * basis(2 * l + 1, p).dag())\n",
    "                for p in range(1, 2 * l + 1)\n",
    "            ]\n",
    "        )\n",
    "        + basis(2 * l + 1, 2 * l) * basis(2 * l + 1, 0).dag(),\n",
    "    )\n",
    "    return S * s\n",
    "\n",
    "\n",
    "def measurement_op_j_up(j, l):\n",
    "    # normalization = 2 * (2 * l + 1)\n",
    "    return (\n",
    "        tensor(\n",
    "            basis(2, 0) * basis(2, 0).dag(),\n",
    "            basis(2 * l + 1, j) * basis(2 * l + 1, j).dag(),\n",
    "        )\n",
    "        # / normalization\n",
    "    )\n",
    "\n",
    "\n",
    "def measurement_op_j_down(j, l):\n",
    "    # normalization = 2 * (2 * l + 1)\n",
    "    return (\n",
    "        tensor(\n",
    "            basis(2, 1) * basis(2, 1).dag(),\n",
    "            basis(2 * l + 1, j) * basis(2 * l + 1, j).dag(),\n",
    "        )\n",
    "        # / normalization\n",
    "    )\n",
    "\n",
    "\n",
    "def measurement_j(j, l):\n",
    "    return measurement_op_j_up(j, l).dag() * measurement_op_j_up(\n",
    "        j, l\n",
    "    ) + measurement_op_j_down(j, l).dag() * measurement_op_j_down(j, l)\n",
    "\n",
    "\n",
    "def get_probability_j(j, l, s):\n",
    "    return s.dag() * measurement_j(j, l) * s"
   ]
  },
  {
   "cell_type": "markdown",
   "metadata": {},
   "source": [
    "Initializing the cycle and defining the hamiltonian"
   ]
  },
  {
   "cell_type": "code",
   "execution_count": 2,
   "metadata": {},
   "outputs": [],
   "source": [
    "L = 5\n",
    "H = (1 / np.sqrt(2)) * Qobj([[1, 1], [1, -1]])\n",
    "init_pos = basis(2 * L + 1, int(L))\n",
    "init_coin = (1 / np.sqrt(2)) * (basis(2, 0) + basis(2, 1) * complex(0, 1))\n",
    "init_state = tensor(init_coin, init_pos)\n"
   ]
  },
  {
   "cell_type": "markdown",
   "metadata": {},
   "source": [
    "Defining the function to get the probability distribution on vertexes averaged over time"
   ]
  },
  {
   "cell_type": "code",
   "execution_count": 4,
   "metadata": {},
   "outputs": [],
   "source": [
    "def get_PT(time, l, init_s, coin):\n",
    "    P_t = []\n",
    "    n_s = init_s\n",
    "    for t in range(0, time):\n",
    "        n_s = coin_toss(n_s, coin, l)\n",
    "        n_s = shift_operator(n_s, l)\n",
    "        P_t_buff = []\n",
    "        for i in range(2 * l + 1):\n",
    "            P_t_buff.append(get_probability_j(i, l, n_s).full())\n",
    "        P_t.append(P_t_buff)\n",
    "    P_T = [sum(x) for x in zip(*P_t)]\n",
    "    for i in range(2 * l + 1):\n",
    "        P_T[i] = P_T[i] / time\n",
    "    return P_T\n",
    "\n",
    "pi = []\n",
    "for i in range(2 * L + 1):\n",
    "    pi.append(1 / (2 * L + 1))"
   ]
  },
  {
   "cell_type": "markdown",
   "metadata": {},
   "source": [
    "Draw the probability distribution averaged over time"
   ]
  },
  {
   "cell_type": "code",
   "execution_count": 5,
   "metadata": {},
   "outputs": [],
   "source": [
    "def draw_(time, l, coin):\n",
    "    x = []\n",
    "    for i in range(2 * l + 1):\n",
    "        x.append(i)\n",
    "    i_p = basis(2 * l + 1, int(l))\n",
    "    i_c = (1 / np.sqrt(2)) * (basis(2, 0) + basis(2, 1) * complex(0, 1))\n",
    "    i_s = tensor(i_c, i_p)\n",
    "    P_T = get_PT(time, l, i_s, coin)\n",
    "    y2 = []\n",
    "    for i in P_T:\n",
    "        y2.append(np.real(i[0]))\n",
    "\n",
    "    y3 = []\n",
    "    for i in y2:\n",
    "        y3.append(i[0])\n",
    "    p = []\n",
    "    for i in range(2 * l + 1):\n",
    "        p.append(1 / (2 * l + 1))\n",
    "    fig, ax = plt.subplots()\n",
    "    ax.plot(x, y3, label=\"Probability distribution\", color=\"blue\")\n",
    "    ax.plot(x, p, \"k:\", label=\"Limit distribution\", color=\"red\")\n",
    "    legend = ax.legend(loc=\"upper center\")\n",
    "    legend.get_frame().set_facecolor(\"C0\")\n",
    "    # plt.plot(Ns, y)\n",
    "    plt.xlabel(\"Number of vertexes\")\n",
    "    plt.ylabel(\"Mixing Time\")\n",
    "    plt.ylim(0, 1)\n",
    "    plt.show()"
   ]
  },
  {
   "cell_type": "code",
   "execution_count": 8,
   "metadata": {},
   "outputs": [
    {
     "name": "stderr",
     "output_type": "stream",
     "text": [
      "/var/folders/jk/jgkdl6hx493bhb_hd6fkl9q00000gn/T/ipykernel_26949/3332223184.py:21: UserWarning: color is redundantly defined by the 'color' keyword argument and the fmt string \"k:\" (-> color='k'). The keyword argument will take precedence.\n",
      "  ax.plot(x, p, \"k:\", label=\"Limit distribution\", color=\"red\")\n"
     ]
    },
    {
     "data": {
      "image/png": "[encoded data removed]",
      "text/plain": [
       "<Figure size 432x288 with 1 Axes>"
      ]
     },
     "metadata": {
      "needs_background": "light"
     },
     "output_type": "display_data"
    }
   ],
   "source": [
    "draw_(30,5,H)"
   ]
  },
  {
   "cell_type": "markdown",
   "metadata": {},
   "source": [
    "Mixing time"
   ]
  },
  {
   "cell_type": "code",
   "execution_count": 9,
   "metadata": {},
   "outputs": [],
   "source": [
    "def variation_distance(a, b):\n",
    "    ab = []\n",
    "    for i in range(len(a)):\n",
    "        ab.append(abs(a[i] - b[i]))\n",
    "    return sum(ab)\n",
    "\n",
    "\n",
    "def calc_mixing_time(b, c, s, T, epsilon, l):\n",
    "    loops = 0\n",
    "    for t in range(1, T):\n",
    "        PT = get_PT(t, l, s, c)\n",
    "        if variation_distance(PT, b) <= epsilon:\n",
    "            return int(t)\n",
    "        else:\n",
    "            loops += 1\n",
    "            if loops == T - 1:\n",
    "                return int(-1)\n",
    "            else:\n",
    "                pass\n",
    "\n",
    "\n",
    "def mixing_times():\n",
    "    Ls = [(2 * i + 1) for i in range(2, 10, 1)]\n",
    "    T = 10000\n",
    "    y = []\n",
    "    for i in Ls:\n",
    "        i_p = basis(2 * i + 1, int(i))\n",
    "        i_c = (1 / np.sqrt(2)) * (basis(2, 0) + basis(2, 1) * complex(0, 1))\n",
    "        i_s = tensor(i_c, i_p)\n",
    "        epss = 0.1\n",
    "        pis = []\n",
    "        for j in range(2 * i + 1):\n",
    "            pis.append(1 / (2 * i + 1))\n",
    "        y.append(calc_mixing_time(pis, H, i_s, T, epss, i))\n",
    "    with open(\"data_QW_C,txt\", \"w\") as f:\n",
    "        for i in range(len(Ls)):\n",
    "            f.write(str(Ls[i]))\n",
    "            f.write(\",\")\n",
    "            f.write(str(y[i]))\n",
    "            f.write(\"\\n\")\n",
    "\n",
    "    ub = []\n",
    "    for i in Ls:\n",
    "        ub.append(((2 * i + 1) * np.log(2 * i + 1)) / (0.1 * 0.1 * 0.1))\n",
    "    fig, ax = plt.subplots()\n",
    "    ax.plot(Ls, y, label=\"Computed mixing time\", color=\"blue\")\n",
    "    ax.plot(Ls, ub, \"k:\", label=\"Upper bound\", color=\"red\")\n",
    "    # ax.plot(Ns, theta, \"k:\", label=\"Expected\", color=\"pink\")\n",
    "    legend = ax.legend(loc=\"upper center\")\n",
    "    legend.get_frame().set_facecolor(\"C0\")\n",
    "    # plt.plot(Ns, y)\n",
    "    plt.grid(linestyle=\"--\", linewidth=0.5)\n",
    "    plt.xlabel(\"Number of vertexes\")\n",
    "    plt.ylabel(\"Mixing Time\")\n",
    "    plt.show()"
   ]
  },
  {
   "cell_type": "code",
   "execution_count": 10,
   "metadata": {},
   "outputs": [
    {
     "name": "stderr",
     "output_type": "stream",
     "text": [
      "/var/folders/jk/jgkdl6hx493bhb_hd6fkl9q00000gn/T/ipykernel_26949/1301461332.py:47: UserWarning: color is redundantly defined by the 'color' keyword argument and the fmt string \"k:\" (-> color='k'). The keyword argument will take precedence.\n",
      "  ax.plot(Ls, ub, \"k:\", label=\"Upper bound\", color=\"red\")\n"
     ]
    },
    {
     "data": {
      "image/png": "[encoded data removed]",
      "text/plain": [
       "<Figure size 432x288 with 1 Axes>"
      ]
     },
     "metadata": {
      "needs_background": "light"
     },
     "output_type": "display_data"
    }
   ],
   "source": [
    "mixing_times()"
   ]
  },
  {
   "cell_type": "code",
   "execution_count": null,
   "metadata": {},
   "outputs": [],
   "source": []
  }
 ],
 "metadata": {
  "kernelspec": {
   "display_name": "Python 3",
   "language": "python",
   "name": "python3"
  },
  "language_info": {
   "codemirror_mode": {
    "name": "ipython",
    "version": 3
   },
   "file_extension": ".py",
   "mimetype": "text/x-python",
   "name": "python",
   "nbconvert_exporter": "python",
   "pygments_lexer": "ipython3",
   "version": "3.9.7"
  }
 },
 "nbformat": 4,
 "nbformat_minor": 2
}
