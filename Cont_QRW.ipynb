{
 "cells": [
  {
   "cell_type": "code",
   "execution_count": 1,
   "metadata": {},
   "outputs": [],
   "source": [
    "import numpy as np\n",
    "import matplotlib.pyplot as plt\n",
    "import random\n",
    "import networkx as nx\n",
    "import math\n",
    "from scipy import linalg\n"
   ]
  },
  {
   "cell_type": "markdown",
   "metadata": {},
   "source": [
    "Definition of the graph G_n"
   ]
  },
  {
   "cell_type": "code",
   "execution_count": 2,
   "metadata": {},
   "outputs": [],
   "source": [
    "def get_vertexes(n):\n",
    "    n_v = np.power(2, n + 1) + np.power(2, n) - 2\n",
    "    vertexes = [i for i in range(n_v)]\n",
    "    return vertexes\n",
    "\n",
    "\n",
    "def build_graph(n):\n",
    "    n_columns = 2 * n + 1\n",
    "    columns = []\n",
    "    dict_col = {}\n",
    "    for i in range(n_columns):\n",
    "        columns.append([])\n",
    "        dict_col[i] = []\n",
    "    iterator = 0\n",
    "    past_center_counter = 2\n",
    "    for i in range(n_columns):\n",
    "        if i <= n:\n",
    "            n_v_c = np.power(2, i)\n",
    "            for j in range(iterator, iterator + n_v_c):\n",
    "                columns[i].append(j)\n",
    "                dict_col[i].append(j)\n",
    "            iterator = iterator + n_v_c\n",
    "        elif i > n:\n",
    "            k = i - past_center_counter\n",
    "            past_center_counter = past_center_counter + 2\n",
    "            n_v_c = np.power(2, k)\n",
    "            for j in range(iterator, iterator + n_v_c):\n",
    "                columns[i].append(j)\n",
    "                dict_col[i].append(j)\n",
    "            iterator = iterator + n_v_c\n",
    "\n",
    "    g = nx.Graph()\n",
    "    for i in range(len(columns)):\n",
    "        g.add_nodes_from(columns[i])\n",
    "    for i in range(len(columns)):\n",
    "        if i < n:\n",
    "            for j in range(len(columns[i])):\n",
    "                g.add_edge(columns[i][j], columns[i + 1][2 * j])\n",
    "                g.add_edge(columns[i][j], columns[i + 1][2 * j + 1])\n",
    "        if i >= n and i != 2 * n:\n",
    "            for j in range(len(columns[i + 1])):\n",
    "                g.add_edge(columns[i + 1][j], columns[i][2 * j])\n",
    "                g.add_edge(columns[i + 1][j], columns[i][2 * j + 1])\n",
    "    return [g, dict_col]"
   ]
  },
  {
   "cell_type": "markdown",
   "metadata": {},
   "source": [
    "Building the Hamiltonian"
   ]
  },
  {
   "cell_type": "code",
   "execution_count": 3,
   "metadata": {},
   "outputs": [],
   "source": [
    "def build_H(n):\n",
    "    vertexes = get_vertexes(n)\n",
    "    gamma = 1\n",
    "    g = build_graph(n)[0]\n",
    "    A = nx.adjacency_matrix(g).todense()\n",
    "    H = A + np.identity(len(vertexes))\n",
    "    for i in range(len(vertexes)):\n",
    "        for j in range(len(vertexes)):\n",
    "            if (i == 0 and j == 0) or (\n",
    "                i == (len(vertexes) - 1) and j == (len(vertexes) - 1)\n",
    "            ):\n",
    "                H[i][j] = H[i][j] * 2 * gamma\n",
    "            elif i == j:\n",
    "                H[i][j] = H[i][j] * 3 * gamma\n",
    "            elif H[i][j] != 0:\n",
    "                H[i][j] = H[i][j] * (-gamma)\n",
    "    return H\n",
    "\n",
    "\n",
    "def modulus_c(a):\n",
    "    r = a.real\n",
    "    i = a.imag\n",
    "    return np.sqrt(r**2 + i**2)\n"
   ]
  },
  {
   "cell_type": "markdown",
   "metadata": {},
   "source": [
    "Function to get the probability distribution on the vertexes of G_n"
   ]
  },
  {
   "cell_type": "code",
   "execution_count": 4,
   "metadata": {},
   "outputs": [],
   "source": [
    "def get_prob_distr(n, eps):\n",
    "    h = build_H(n)\n",
    "    initial_state = [[1]]\n",
    "    for i in range(len(get_vertexes(n)) - 1):\n",
    "        initial_state.append([0])\n",
    "    initial_state = np.array(initial_state)\n",
    "    tt_list = np.linspace(0.0, pow(n, 4) / (2 * eps), int((pow(n, 4) / (2 * eps))))\n",
    "    T = random.choice(tt_list)\n",
    "    t_list = np.linspace(0.0, T, int(T / 1000))\n",
    "    unitary = [linalg.expm(-complex(0, 1) * j * h) for j in t_list]\n",
    "    s = initial_state\n",
    "    for i in unitary:\n",
    "        s = i.dot(s)\n",
    "\n",
    "    final_state = []\n",
    "    for i in s:\n",
    "        final_state.append(modulus_c(i[0]) * modulus_c(i[0]))\n",
    "    # x = []\n",
    "    dict_col = build_graph(n)[1]\n",
    "    # for i in dict_col.keys():\n",
    "    #    x.append(i)\n",
    "    col_results = []\n",
    "    for i in dict_col.keys():\n",
    "        col_res = []\n",
    "        for j in dict_col[i]:\n",
    "            col_res.append(final_state[j])\n",
    "        col_results.append(sum(col_res))\n",
    "    return col_results"
   ]
  },
  {
   "cell_type": "code",
   "execution_count": 5,
   "metadata": {},
   "outputs": [],
   "source": [
    "def draw_mean_prob(N, n, eps):\n",
    "    x = []\n",
    "    dict_col = build_graph(n)[1]\n",
    "    for i in dict_col.keys():\n",
    "        x.append(i)\n",
    "    y_1 = []\n",
    "    for i in range(N):\n",
    "        y_1.append(get_prob_distr(n, eps))\n",
    "    y = []\n",
    "    er_y = []\n",
    "    # print(len(y_1))\n",
    "    # for i in y_1:\n",
    "    #    print(len(i))\n",
    "    for j in range(len(y_1[0])):\n",
    "        y_col = []\n",
    "        for i in range(len(y_1)):\n",
    "            y_col.append(y_1[i][j])\n",
    "        y.append(np.mean(y_col))\n",
    "        er_y.append(np.std(y_col))\n",
    "    fig, ax = plt.subplots()\n",
    "    ax.errorbar(x, y, er_y, elinewidth=1)\n",
    "    plt.xlabel(\"Column\")\n",
    "    plt.ylabel(\"Occurrences\")\n",
    "    plt.grid(linestyle=\"--\", linewidth=0.5)\n",
    "    plt.show()"
   ]
  },
  {
   "cell_type": "code",
   "execution_count": 7,
   "metadata": {},
   "outputs": [
    {
     "data": {
      "image/png": "[encoded data removed]",
      "text/plain": [
       "<Figure size 432x288 with 1 Axes>"
      ]
     },
     "metadata": {
      "needs_background": "light"
     },
     "output_type": "display_data"
    }
   ],
   "source": [
    "draw_mean_prob(100,3,0.01)"
   ]
  }
 ],
 "metadata": {
  "kernelspec": {
   "display_name": "base",
   "language": "python",
   "name": "python3"
  },
  "language_info": {
   "codemirror_mode": {
    "name": "ipython",
    "version": 3
   },
   "file_extension": ".py",
   "mimetype": "text/x-python",
   "name": "python",
   "nbconvert_exporter": "python",
   "pygments_lexer": "ipython3",
   "version": "3.9.7"
  }
 },
 "nbformat": 4,
 "nbformat_minor": 2
}
